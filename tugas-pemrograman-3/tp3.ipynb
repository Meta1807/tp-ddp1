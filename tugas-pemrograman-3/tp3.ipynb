{
 "metadata": {
  "language_info": {
   "codemirror_mode": {
    "name": "ipython",
    "version": 3
   },
   "file_extension": ".py",
   "mimetype": "text/x-python",
   "name": "python",
   "nbconvert_exporter": "python",
   "pygments_lexer": "ipython3",
   "version": "3.8.5-final"
  },
  "orig_nbformat": 2,
  "kernelspec": {
   "name": "python3",
   "display_name": "Python 3"
  }
 },
 "nbformat": 4,
 "nbformat_minor": 2,
 "cells": [
  {
   "cell_type": "code",
   "execution_count": 4,
   "metadata": {},
   "outputs": [
    {
     "output_type": "stream",
     "name": "stdout",
     "text": [
      "Selamat datang di The The Great Library\n",
      "Silahkan masukkan perintah!\n",
      "Selamat datang di The The Great Library\n",
      "Silahkan masukkan perintah!\n",
      "Rak dengan nama Rak01 telah berhasil ditambahkan.\n",
      "Buku dengan nama Meinkampft, 1935, NaziParty, Naziism berhasil ditambahkan\n",
      "\n",
      "\n",
      "Selamat datang di The The Great Library\n",
      "Silahkan masukkan perintah!\n",
      "Buku ditemukan\n",
      "Posisi         : Rak01\n",
      "Nama Buku      : Meinkampft\n",
      "Pengarang      : Hitler\n",
      "Penerbit Buku  : NaziParty\n",
      "Tahun Terbit   : 1935\n",
      "Genre          : Naziism\n",
      "\n",
      "\n",
      "Selamat datang di The The Great Library\n",
      "Silahkan masukkan perintah!\n"
     ]
    },
    {
     "output_type": "error",
     "ename": "IndexError",
     "evalue": "list index out of range",
     "traceback": [
      "\u001b[1;31m---------------------------------------------------------------------------\u001b[0m",
      "\u001b[1;31mIndexError\u001b[0m                                Traceback (most recent call last)",
      "\u001b[1;32m<ipython-input-4-5372dea6df58>\u001b[0m in \u001b[0;36m<module>\u001b[1;34m\u001b[0m\n\u001b[0;32m    121\u001b[0m \u001b[1;33m\u001b[0m\u001b[0m\n\u001b[0;32m    122\u001b[0m \u001b[1;32mif\u001b[0m \u001b[0m__name__\u001b[0m \u001b[1;33m==\u001b[0m \u001b[1;34m'__main__'\u001b[0m\u001b[1;33m:\u001b[0m\u001b[1;33m\u001b[0m\u001b[1;33m\u001b[0m\u001b[0m\n\u001b[1;32m--> 123\u001b[1;33m     \u001b[0mmain\u001b[0m\u001b[1;33m(\u001b[0m\u001b[1;33m)\u001b[0m\u001b[1;33m\u001b[0m\u001b[1;33m\u001b[0m\u001b[0m\n\u001b[0m",
      "\u001b[1;32m<ipython-input-4-5372dea6df58>\u001b[0m in \u001b[0;36mmain\u001b[1;34m()\u001b[0m\n\u001b[0;32m     67\u001b[0m         \u001b[0mcommand\u001b[0m \u001b[1;33m=\u001b[0m \u001b[0minput\u001b[0m\u001b[1;33m(\u001b[0m\u001b[1;34m'Perintah anda: '\u001b[0m\u001b[1;33m)\u001b[0m\u001b[1;33m\u001b[0m\u001b[1;33m\u001b[0m\u001b[0m\n\u001b[0;32m     68\u001b[0m         \u001b[0mcommand\u001b[0m \u001b[1;33m=\u001b[0m \u001b[0mcommand\u001b[0m\u001b[1;33m.\u001b[0m\u001b[0msplit\u001b[0m\u001b[1;33m(\u001b[0m\u001b[1;33m)\u001b[0m\u001b[1;33m\u001b[0m\u001b[1;33m\u001b[0m\u001b[0m\n\u001b[1;32m---> 69\u001b[1;33m         \u001b[1;32mif\u001b[0m \u001b[0mcommand\u001b[0m\u001b[1;33m[\u001b[0m\u001b[1;36m0\u001b[0m\u001b[1;33m]\u001b[0m \u001b[1;33m==\u001b[0m \u001b[1;34m'ADD'\u001b[0m\u001b[1;33m:\u001b[0m\u001b[1;33m\u001b[0m\u001b[1;33m\u001b[0m\u001b[0m\n\u001b[0m\u001b[0;32m     70\u001b[0m             \u001b[1;32mif\u001b[0m \u001b[0mcommand\u001b[0m\u001b[1;33m[\u001b[0m\u001b[1;36m1\u001b[0m\u001b[1;33m]\u001b[0m \u001b[1;33m==\u001b[0m \u001b[1;34m'RAK'\u001b[0m\u001b[1;33m:\u001b[0m\u001b[1;33m\u001b[0m\u001b[1;33m\u001b[0m\u001b[0m\n\u001b[0;32m     71\u001b[0m                 \u001b[1;32mtry\u001b[0m\u001b[1;33m:\u001b[0m\u001b[1;33m\u001b[0m\u001b[1;33m\u001b[0m\u001b[0m\n",
      "\u001b[1;31mIndexError\u001b[0m: list index out of range"
     ]
    }
   ],
   "source": [
    "from modules.add.shelf import *\n",
    "from modules.add.book import addBook\n",
    "from modules.move.move import *\n",
    "from modules.table.table import *\n",
    "from modules.recursive.search import search\n",
    "\n",
    "def main():\n",
    "    libraryData = {}\n",
    "    while True:\n",
    "        print('Selamat datang di The The Great Library')\n",
    "        print('Silahkan masukkan perintah!')\n",
    "        command = input('Perintah anda: ')\n",
    "        command = command.split()\n",
    "        try:\n",
    "            if command[0] == 'ADD':\n",
    "                if command[1] == 'RAK':\n",
    "                    try:\n",
    "                        addShelf(command[2], libraryData)\n",
    "                    except:\n",
    "                        print('PERINTAH TIDAK VALID, USAGE: ADD RAK <Nama Rak>\\n')\n",
    "                elif command[1] == 'BUKU':\n",
    "                    try:\n",
    "                        book = {\n",
    "                            'name': command[3],\n",
    "                            'writer': command[4],\n",
    "                            'year': command[5],\n",
    "                            'publisher': command[6],\n",
    "                            'genre': command[7]\n",
    "                        }\n",
    "                        status = addBook(book, libraryData, command[2])\n",
    "                        if status == True:\n",
    "                            print(f'Buku dengan nama {book[\"name\"]}, {book[\"year\"]}, {book[\"publisher\"]}, {book[\"genre\"]} berhasil ditambahkan')\n",
    "                        else:\n",
    "                            print('Buku dengan nama yang sama sudah ada di The The Great Library')\n",
    "                        print()\n",
    "                    except IndexError:\n",
    "                        print('Perintah Tidak Valid')\n",
    "                        print('Penggunaan Command: ADD BUKU <Nama Rak> <Judul Buku> <Penulis> <Tahun Terbit> <Penerbit> <Genre Buku>')\n",
    "                        print()\n",
    "\n",
    "            elif command[0] == 'MOVE':\n",
    "                if command[1] == 'BUKU':\n",
    "                    buku = search(command[2], libraryData, list(libraryData.keys()))\n",
    "                    if buku:\n",
    "                        moveBook(command[2], buku[1], command[3], libraryData)\n",
    "                        print(f'Buku dengan nama {command[2]} dipindahkan dari rak dengan nama {buku[1]} ke rak dengan nama {command[3]}')\n",
    "                    else:\n",
    "                        print(f'Buku dengan nama {command[2]} tidak ditemukan dalam sistem.')\n",
    "                else:\n",
    "                    print('Perintah Tidak Valid')\n",
    "                    print('Penggunaan Command: MOVE BUKU <Nama Buku> <Rak Tujuan>')\n",
    "        \n",
    "            elif command[0] == 'SEARCH':\n",
    "                result = search(command[1], libraryData, list(libraryData.keys()))\n",
    "                if result:\n",
    "                    printTable(command[1], result)\n",
    "                    print()\n",
    "                else:\n",
    "                    print(f'Buku tidak ditemukan')\n",
    "\n",
    "            elif command[0] == 'EXIT':\n",
    "                break\n",
    "\n",
    "            else:\n",
    "                print('Command tidak ditemukan, untuk melihat guide silahkan ketik HELP')\n",
    "                print()\n",
    "        except IndexError:\n",
    "            print('Untuk melihat guide, silahkan ketik HELP')\n",
    "            print()\n",
    "\n",
    "if __name__ == '__main__':\n",
    "    main()"
   ]
  },
  {
   "cell_type": "code",
   "execution_count": 88,
   "metadata": {},
   "outputs": [
    {
     "output_type": "execute_result",
     "data": {
      "text/plain": [
       "True"
      ]
     },
     "metadata": {},
     "execution_count": 88
    }
   ],
   "source": [
    "addShelf('GayShelf', libraryData)"
   ]
  },
  {
   "cell_type": "code",
   "execution_count": 23,
   "metadata": {},
   "outputs": [
    {
     "output_type": "error",
     "ename": "NameError",
     "evalue": "name 'libraryData' is not defined",
     "traceback": [
      "\u001b[1;31m---------------------------------------------------------------------------\u001b[0m",
      "\u001b[1;31mNameError\u001b[0m                                 Traceback (most recent call last)",
      "\u001b[1;32m<ipython-input-23-28c433edbaf6>\u001b[0m in \u001b[0;36m<module>\u001b[1;34m\u001b[0m\n\u001b[1;32m----> 1\u001b[1;33m \u001b[0mprint\u001b[0m\u001b[1;33m(\u001b[0m\u001b[0mrecurseSearch\u001b[0m\u001b[1;33m(\u001b[0m\u001b[1;34m'Test1'\u001b[0m\u001b[1;33m,\u001b[0m \u001b[0mlist\u001b[0m\u001b[1;33m(\u001b[0m\u001b[0mlibraryData\u001b[0m\u001b[1;33m.\u001b[0m\u001b[0mitems\u001b[0m\u001b[1;33m(\u001b[0m\u001b[1;33m)\u001b[0m\u001b[1;33m)\u001b[0m\u001b[1;33m)\u001b[0m\u001b[1;33m)\u001b[0m\u001b[1;33m\u001b[0m\u001b[1;33m\u001b[0m\u001b[0m\n\u001b[0m",
      "\u001b[1;31mNameError\u001b[0m: name 'libraryData' is not defined"
     ]
    }
   ],
   "source": [
    "print(recurseSearch('Test1', list(libraryData.items())))"
   ]
  },
  {
   "cell_type": "code",
   "execution_count": 96,
   "metadata": {},
   "outputs": [
    {
     "output_type": "execute_result",
     "data": {
      "text/plain": [
       "True"
      ]
     },
     "metadata": {},
     "execution_count": 96
    }
   ],
   "source": [
    "book = {\n",
    "    'name': 'Test1',\n",
    "    'year': '2019',\n",
    "    'publisher': 'Gay',\n",
    "    'genre': 'Definitely Not Gay Shit (tm)'\n",
    "}\n",
    "\n",
    "addBook(book, libraryData, addedBooks, 'GayShelf2')"
   ]
  },
  {
   "cell_type": "code",
   "execution_count": 5,
   "metadata": {},
   "outputs": [
    {
     "output_type": "stream",
     "name": "stdout",
     "text": [
      "{'NamaRak': {}}\n"
     ]
    }
   ],
   "source": [
    "data = {}\n",
    "\n",
    "data['NamaRak'] = {}\n",
    "print(data)"
   ]
  },
  {
   "cell_type": "code",
   "execution_count": 12,
   "metadata": {},
   "outputs": [
    {
     "output_type": "stream",
     "name": "stdout",
     "text": [
      "Sudah ada\n"
     ]
    }
   ],
   "source": []
  },
  {
   "cell_type": "code",
   "execution_count": 25,
   "metadata": {},
   "outputs": [
    {
     "output_type": "stream",
     "name": "stdout",
     "text": [
      "{'NamaRak': {'Test': {'pengarang': 'Saya'}, 'Test2': {'pengarang': 'Saya'}, 'Test3': {'pengarang': 'Saya'}, 'Test4': {'pengarang': 'Saya'}}}\n"
     ]
    }
   ],
   "source": [
    "tambahBuku('NamaRak', ['Test4', 'Saya'], isi_perpustakaan)\n",
    "print(isi_perpustakaan)"
   ]
  },
  {
   "cell_type": "code",
   "execution_count": 10,
   "metadata": {},
   "outputs": [
    {
     "output_type": "execute_result",
     "data": {
      "text/plain": [
       "{'pengarang': 'Hitler', 'terbit': 1939}"
      ]
     },
     "metadata": {},
     "execution_count": 10
    }
   ],
   "source": [
    "data['NamaRak']['Meinkampft']"
   ]
  },
  {
   "cell_type": "code",
   "execution_count": 31,
   "metadata": {},
   "outputs": [],
   "source": [
    "perpustakaan = {\n",
    "    'rak1': {\n",
    "        'buku': 'test'\n",
    "     },\n",
    "     'rak2': {\n",
    "         'buku1': 'test2'\n",
    "     }\n",
    "}\n",
    "def search(nama_buku: str, library: dict, libraryKeys: list):\n",
    "    if len(libraryKeys) == 0:\n",
    "        return []\n",
    "    elif len(libraryKeys) == 1:\n",
    "        if nama_buku in library[libraryKeys[0]]:\n",
    "            return [library[libraryKeys[0]][nama_buku], libraryKeys[0]]\n",
    "        else:\n",
    "            return []\n",
    "    elif len(libraryKeys) > 1:\n",
    "        return search(nama_buku, library, [libraryKeys[0]]) + search(nama_buku, library, libraryKeys[1:])"
   ]
  },
  {
   "cell_type": "code",
   "execution_count": 32,
   "metadata": {},
   "outputs": [
    {
     "output_type": "stream",
     "name": "stdout",
     "text": [
      "buku1 {'rak1': {'buku': 'test'}, 'rak2': {'buku1': 'test2'}} ['rak1', 'rak2']\nbuku1 {'rak1': {'buku': 'test'}, 'rak2': {'buku1': 'test2'}} ['rak1']\nbuku1 {'rak1': {'buku': 'test'}, 'rak2': {'buku1': 'test2'}} ['rak2']\n"
     ]
    },
    {
     "output_type": "execute_result",
     "data": {
      "text/plain": [
       "['test2', 'rak2']"
      ]
     },
     "metadata": {},
     "execution_count": 32
    }
   ],
   "source": [
    "search('buku1', perpustakaan, list(perpustakaan.keys()))"
   ]
  },
  {
   "cell_type": "code",
   "execution_count": 10,
   "metadata": {},
   "outputs": [
    {
     "output_type": "execute_result",
     "data": {
      "text/plain": [
       "['rak2']"
      ]
     },
     "metadata": {},
     "execution_count": 10
    }
   ],
   "source": [
    "keyRak[1:]"
   ]
  },
  {
   "cell_type": "code",
   "execution_count": 36,
   "metadata": {},
   "outputs": [
    {
     "output_type": "execute_result",
     "data": {
      "text/plain": [
       "'Str'"
      ]
     },
     "metadata": {},
     "execution_count": 36
    }
   ],
   "source": [
    "'str'.capitalize() # str adalah suatu class python"
   ]
  },
  {
   "cell_type": "code",
   "execution_count": 62,
   "metadata": {},
   "outputs": [],
   "source": [
    "class Car():\n",
    "    def __init__(self, roda, nama):\n",
    "        self.roda = roda\n",
    "        self.nama = nama\n",
    "        print('Roda mobil ini 4')\n",
    "    def __str__(self):\n",
    "        return f'Mobil {self.nama} - Roda: {self.roda}'"
   ]
  },
  {
   "cell_type": "code",
   "execution_count": 63,
   "metadata": {},
   "outputs": [
    {
     "output_type": "stream",
     "name": "stdout",
     "text": [
      "Roda mobil ini 4\n"
     ]
    },
    {
     "output_type": "execute_result",
     "data": {
      "text/plain": [
       "'Mobil Toyota - Roda: 4'"
      ]
     },
     "metadata": {},
     "execution_count": 63
    }
   ],
   "source": [
    "x = Car(4, 'Toyota')\n",
    "str(x)"
   ]
  },
  {
   "cell_type": "code",
   "execution_count": 61,
   "metadata": {},
   "outputs": [
    {
     "output_type": "error",
     "ename": "TypeError",
     "evalue": "'Car' object is not iterable",
     "traceback": [
      "\u001b[1;31m---------------------------------------------------------------------------\u001b[0m",
      "\u001b[1;31mTypeError\u001b[0m                                 Traceback (most recent call last)",
      "\u001b[1;32m<ipython-input-61-9354e2a68b66>\u001b[0m in \u001b[0;36m<module>\u001b[1;34m\u001b[0m\n\u001b[1;32m----> 1\u001b[1;33m \u001b[0mdict\u001b[0m\u001b[1;33m(\u001b[0m\u001b[0mx\u001b[0m\u001b[1;33m)\u001b[0m\u001b[1;33m\u001b[0m\u001b[1;33m\u001b[0m\u001b[0m\n\u001b[0m",
      "\u001b[1;31mTypeError\u001b[0m: 'Car' object is not iterable"
     ]
    }
   ],
   "source": [
    "dict(x)"
   ]
  },
  {
   "cell_type": "code",
   "execution_count": 43,
   "metadata": {},
   "outputs": [],
   "source": []
  },
  {
   "cell_type": "code",
   "execution_count": 44,
   "metadata": {},
   "outputs": [
    {
     "output_type": "execute_result",
     "data": {
      "text/plain": [
       "'Fadhil'"
      ]
     },
     "metadata": {},
     "execution_count": 44
    }
   ],
   "source": []
  },
  {
   "cell_type": "code",
   "execution_count": null,
   "metadata": {},
   "outputs": [],
   "source": []
  }
 ]
}